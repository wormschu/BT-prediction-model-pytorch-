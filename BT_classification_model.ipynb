{
 "cells": [
  {
   "cell_type": "code",
   "execution_count": null,
   "metadata": {},
   "outputs": [],
   "source": [
    "import matplotlib.pyplot as plt\n",
    "import numpy as np\n",
    "import torch\n",
    "import torch.nn as nn\n",
    "from torchvision import transforms, models\n",
    "from torchvision.datasets import ImageFolder\n",
    "from sklearn.metrics import confusion_matrix, roc_curve, auc\n",
    "import torch.optim as optim\n",
    "import torch.nn.functional as F\n",
    "import time"
   ]
  },
  {
   "cell_type": "code",
   "execution_count": null,
   "metadata": {},
   "outputs": [],
   "source": [
    "def result_graph():\n",
    "    plt.figure(1)\n",
    "    \n",
    "    plt.subplot(2,1,1)\n",
    "    plt.plot(range(1,len(train_accuracy)+1),train_accuracy,'b',label = 'train accuracy')\n",
    "    plt.plot(range(1,len(val_accuracy)+1),val_accuracy,'r',label = 'valid accuracy')\n",
    "    plt.xlabel('epoch')\n",
    "    plt.ylabel('acc')\n",
    "    plt.title('Acc Curve')\n",
    "    plt.legend()\n",
    "    plt.subplots_adjust(hspace=0.7)\n",
    "    \n",
    "    plt.subplot(2,1,2)\n",
    "    plt.plot(range(1,len(train_losses)+1),train_losses,'b',label = 'train loss')\n",
    "    plt.plot(range(1,len(val_losses)+1),val_losses,'r',label = 'valid loss')\n",
    "    plt.xlabel('epoch')\n",
    "    plt.ylabel('loss')\n",
    "    plt.title('Loss Curve')\n",
    "    plt.legend()\n",
    "    "
   ]
  },
  {
   "cell_type": "markdown",
   "metadata": {},
   "source": [
    "# Training loop function"
   ]
  },
  {
   "cell_type": "code",
   "execution_count": null,
   "metadata": {},
   "outputs": [],
   "source": [
    "def fit(epoch,model,data_loader,phase='train',volatile=False):\n",
    "\n",
    "    if phase == 'train':\n",
    "        model.train()\n",
    "    if phase == 'valid':\n",
    "        model.eval()\n",
    "\n",
    "    running_loss = 0.0\n",
    "    running_correct = 0\n",
    "\n",
    "    if phase == 'valid':\n",
    "        with torch.no_grad():\n",
    "            for batch_idx , (inputs,target) in enumerate(data_loader):\n",
    "                inputs,target = inputs.cuda(),target.cuda()\n",
    "                outputs = model(inputs)\n",
    "                loss = criterion(outputs,target)  \n",
    "                running_loss += loss.data.item()\n",
    "                _, preds = torch.max(outputs, 1)\n",
    "                running_correct += preds.eq(target.data.view_as(preds)).cpu().sum()\n",
    "            loss = running_loss/len(data_loader.dataset)\n",
    "            accuracy = 100. * running_correct/len(data_loader.dataset)\n",
    "            print('{} Loss: {:.4f} Acc: {:.4f}'.format(phase, loss, accuracy))\n",
    "            \n",
    "    if phase == 'train':\n",
    "        with torch.set_grad_enabled(phase == 'train'):\n",
    "            for batch_idx , (inpust,target) in enumerate(data_loader):\n",
    "                inputs,target = inpust.cuda(),target.cuda()\n",
    "                optimizer.zero_grad()\n",
    "                output = model(inputs)\n",
    "                loss = criterion(output,target)  \n",
    "                running_loss += loss.data.item()\n",
    "                _, preds = torch.max(output, 1)\n",
    "                loss.backward()\n",
    "                optimizer.step()\n",
    "                running_correct += preds.eq(target.data.view_as(preds)).cpu().sum()\n",
    "        loss = running_loss/len(data_loader.dataset)\n",
    "        accuracy = 100. * running_correct/len(data_loader.dataset)\n",
    "        print('{} Loss: {:.4f} Acc: {:.4f}'.format(phase, loss, accuracy))\n",
    "\n",
    "    \n",
    "   \n",
    "    return loss,accuracy"
   ]
  },
  {
   "cell_type": "markdown",
   "metadata": {},
   "source": [
    "# Evaluation function"
   ]
  },
  {
   "cell_type": "code",
   "execution_count": null,
   "metadata": {},
   "outputs": [],
   "source": [
    "def inference(loader):\n",
    "    \n",
    "    model.eval()\n",
    "    running_correct = 0\n",
    "    nb_classes = 2\n",
    "    roc_max_diff, roc_target = [],[]\n",
    "\n",
    "    confusion_matrix = torch.zeros(nb_classes, nb_classes)\n",
    "    with torch.no_grad():\n",
    "        for inputs,target in loader:\n",
    "            inputs,target = inputs.cuda(),target.cuda()\n",
    "            outputs_original = model(inputs)\n",
    "            outputs_roc = F.softmax(outputs_original,dim = 1)\n",
    "            outputs_roc = outputs_roc.cpu()\n",
    "            outputs_roc = outputs_roc.numpy()\n",
    "\n",
    "            for i in range(len(target)):\n",
    "                roc_max_diff = np.append(roc_max_diff,outputs_roc[i,1])\n",
    "\n",
    "            load_original_preds = outputs_original.cpu()\n",
    "            load_original_preds = load_original_preds.numpy()\n",
    "            _, preds = torch.max(outputs_original, 1)\n",
    "            preds,target,inputs = preds.cpu(),target.cpu(),inputs.cpu()\n",
    "            running_correct += preds.eq(target.data.view_as(preds)).cpu().sum() \n",
    "            roc_target = np.append(roc_target,target)\n",
    "\n",
    "            for t, p in zip(target.view(-1), preds.view(-1)):\n",
    "                confusion_matrix[t.long(), p.long()] += 1\n",
    "        accuracy = 100. * running_correct/len(loader.dataset)\n",
    "                    \n",
    "    s = [['TN','FP'], ['FN', 'TP']]\n",
    "    for i in range(2):\n",
    "        for j in range(2):\n",
    "            s[i][j] = confusion_matrix[i][j]\n",
    "    TN,FP,FN,TP = s[0][0],s[0][1],s[1][0],s[1][1]\n",
    "    PE = ((TP+FN)/(len(loader.dataset)))*((TP+FP)/(len(loader.dataset)))+((FP+TN)/(len(loader.dataset)))*((FN+TN)/(len(loader.dataset)))\n",
    "    print(confusion_matrix)\n",
    "    print(confusion_matrix.diag()/confusion_matrix.sum(1))\n",
    "    print('TP = {}, FP = {}, TN = {}, FN = {}'.format(TP,FP,TN,FN))\n",
    "    print('Specifity = {:.6f}, Sensitivity = {:.6f}'.format(TN/(TN+FP),TP/(TP+FN)))\n",
    "    print('F1 score = {:.6f}'.format(TP/(TP+(FN+FP)/2)))\n",
    "\n",
    "    print('Test Acc = {:.6f}'.format(accuracy))\n",
    "    accuracy = accuracy.type(torch.FloatTensor)\n",
    "    PE = PE.type(torch.FloatTensor)\n",
    "    Kappa = (0.01*accuracy-PE)/(1.0-PE)\n",
    "    Kappa = Kappa.type(torch.FloatTensor)\n",
    "    print('cohens kappa = {:.6f}'.format(Kappa))\n",
    "    fpr, tpr, _ = roc_curve(roc_target,roc_max_diff)\n",
    "    roc_auc = auc(fpr,tpr)\n",
    "    print('AUC = {:.6f}'.format(roc_auc))"
   ]
  },
  {
   "cell_type": "markdown",
   "metadata": {},
   "source": [
    "# Model and parameter setting"
   ]
  },
  {
   "cell_type": "code",
   "execution_count": null,
   "metadata": {},
   "outputs": [],
   "source": [
    "batch_size = 16\n",
    "num_epochs = 40\n",
    "transform = transforms.Compose([transforms.Resize((224,224))\n",
    "                                       ,transforms.ToTensor()\n",
    "                                       ,transforms.Normalize([0.485, 0.456, 0.406], [0.229, 0.224, 0.225])])\n",
    "\n",
    "model = models.resnet50(pretrained=True)\n",
    "n_features = model.fc.in_features\n",
    "model.fc = nn.Linear(n_features, 2)\n",
    "    \n",
    "model.dropout = nn.Dropout(p=0.5)\n",
    "\n",
    "if torch.cuda.is_available():\n",
    "    model = model.cuda()\n",
    "    \n",
    "criterion = nn.CrossEntropyLoss()\n",
    "optimizer = optim.Adam(model.parameters(),lr=0.000001)    "
   ]
  },
  {
   "cell_type": "markdown",
   "metadata": {},
   "source": [
    "# Train and validation dataset setting"
   ]
  },
  {
   "cell_type": "code",
   "execution_count": null,
   "metadata": {},
   "outputs": [],
   "source": [
    "train_dataset_folder_path = \n",
    "validation_datset_folder_path = \n",
    "\n",
    "train = ImageFolder(train_dataset_folder_path,transform=transform)\n",
    "trainloader = torch.utils.data.DataLoader(train, batch_size=batch_size, shuffle=True, num_workers=0, pin_memory=True)\n",
    "\n",
    "valid = ImageFolder(validation_datset_folder_path,transform=transform)\n",
    "validloader = torch.utils.data.DataLoader(valid, batch_size=batch_size, shuffle=True, num_workers=0, pin_memory=True)"
   ]
  },
  {
   "cell_type": "markdown",
   "metadata": {},
   "source": [
    "# Training loop"
   ]
  },
  {
   "cell_type": "code",
   "execution_count": null,
   "metadata": {},
   "outputs": [],
   "source": [
    "since = time.time()\n",
    "train_losses, train_accuracy = [],[]\n",
    "val_losses, val_accuracy = [],[]\n",
    "\n",
    "for epoch in range(num_epochs):\n",
    "    print()\n",
    "    print('Epoch {}/{}'.format(epoch+1, num_epochs))\n",
    "    print('-' * 10)\n",
    "    epoch_loss, epoch_accuracy = fit(epoch,model,trainloader,phase='train')\n",
    "    val_epoch_loss , val_epoch_accuracy = fit(epoch,model,validloader,phase='valid')\n",
    "    train_losses.append(epoch_loss)\n",
    "    train_accuracy.append(epoch_accuracy)\n",
    "    val_losses.append(val_epoch_loss)\n",
    "    val_accuracy.append(val_epoch_accuracy)\n",
    "    \n",
    "result_graph()\n",
    "time_elapsed = time.time() - since\n",
    "print('Training complete in {:.0f}m {:.0f}s'.format(\n",
    "time_elapsed // 60, time_elapsed % 60))"
   ]
  },
  {
   "cell_type": "markdown",
   "metadata": {},
   "source": [
    "# Evaluation of trained model"
   ]
  },
  {
   "cell_type": "code",
   "execution_count": null,
   "metadata": {},
   "outputs": [],
   "source": [
    "test_dataset_folder_path = \n",
    "test = ImageFolder(test_dataset_folder_path,transform=transform)\n",
    "testloader = torch.utils.data.DataLoader(test, batch_size=batch_size, shuffle=True, num_workers=0, pin_memory=True)\n",
    "inference(testloader)"
   ]
  }
 ],
 "metadata": {
  "kernelspec": {
   "display_name": "PYTORCH",
   "language": "python",
   "name": "worms"
  },
  "language_info": {
   "codemirror_mode": {
    "name": "ipython",
    "version": 3
   },
   "file_extension": ".py",
   "mimetype": "text/x-python",
   "name": "python",
   "nbconvert_exporter": "python",
   "pygments_lexer": "ipython3",
   "version": "3.6.7"
  }
 },
 "nbformat": 4,
 "nbformat_minor": 2
}
