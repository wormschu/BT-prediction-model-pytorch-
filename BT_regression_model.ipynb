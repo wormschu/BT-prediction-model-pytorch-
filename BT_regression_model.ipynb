{
 "cells": [
  {
   "cell_type": "code",
   "execution_count": 1,
   "metadata": {},
   "outputs": [],
   "source": [
    "from PIL import Image\n",
    "import matplotlib.pyplot as plt\n",
    "import numpy as np\n",
    "import torch\n",
    "import torch.nn as nn\n",
    "from torchvision import transforms, models\n",
    "from torchvision.datasets import ImageFolder\n",
    "from sklearn.metrics import confusion_matrix, roc_curve, auc\n",
    "import torch.optim as optim\n",
    "import torch.nn.functional as F\n",
    "import time\n",
    "import json"
   ]
  },
  {
   "cell_type": "code",
   "execution_count": 6,
   "metadata": {},
   "outputs": [],
   "source": [
    "def result_graph():\n",
    "    plt.figure(1)\n",
    "    plt.plot(range(1,len(train_losses)+1),train_losses,'b',label = 'train loss')\n",
    "    plt.plot(range(1,len(val_losses)+1),val_losses,'r',label = 'valid loss')\n",
    "    plt.xlabel('epoch')\n",
    "    plt.ylabel('loss')\n",
    "    plt.title('Loss Curve')\n",
    "    plt.legend()\n",
    "\n",
    "def confmat(data_loader):\n",
    "    \n",
    "    model.eval()\n",
    "    running_loss = 0.0\n",
    "\n",
    "    with torch.no_grad():\n",
    "        for batch_idx , (inpust,target) in enumerate(data_loader):\n",
    "            inputs,target = inpust.cuda(),target.cuda()\n",
    "            output = model(inputs)\n",
    "            loss = criterion(output,target)  \n",
    "            running_loss += loss.data.item()\n",
    "\n",
    "        loss = running_loss/len(data_loader.dataset)\n",
    "        print('{} MSE_Loss: {:.4f} '.format('test', loss))\n",
    "\n",
    "\n",
    "\n",
    "def fit(epoch,model,data_loader,phase='train',volatile=False):\n",
    "    model.train()\n",
    "    running_loss = 0.0\n",
    "\n",
    "    if phase == 'valid':\n",
    "        with torch.no_grad():\n",
    "            for batch_idx , (inputs,target) in enumerate(data_loader):\n",
    "                inputs,target = inputs.cuda(),target.cuda()\n",
    "                outputs = model(inputs)\n",
    "                loss = criterion(outputs,target)  \n",
    "                running_loss += loss.data.item()\n",
    "            loss = running_loss/len(data_loader.dataset)\n",
    "            print('{} Loss: {:.4f} '.format(phase, loss))\n",
    "            \n",
    "    if phase == 'train':\n",
    "        with torch.set_grad_enabled(phase == 'train'):\n",
    "            for batch_idx , (inpust,target) in enumerate(data_loader):\n",
    "                inputs,target = inpust.cuda(),target.cuda()\n",
    "                optimizer.zero_grad()\n",
    "                output = model(inputs)\n",
    "                loss = criterion(output,target)  \n",
    "                running_loss += loss.data.item()\n",
    "                loss.backward()\n",
    "                optimizer.step()\n",
    "        loss = running_loss/len(data_loader.dataset)\n",
    "        print('{} Loss: {:.4f} '.format(phase, loss))\n",
    "\n",
    "    \n",
    "   \n",
    "    return loss"
   ]
  },
  {
   "cell_type": "code",
   "execution_count": 3,
   "metadata": {},
   "outputs": [],
   "source": [
    "class customdatset(object):\n",
    "    \n",
    "    def __init__(self, path, img_transforms):\n",
    "        self.path = path\n",
    "        self.transforms = img_transforms\n",
    "        with open(self.path+'/jsonfile.json') as json_file:\n",
    "            self.json_data = json.load(json_file)\n",
    "\n",
    "    def __getitem__(self, idx):\n",
    "        img_path =  self.json_data[idx]['file_name']\n",
    "        self.img = Image.open(img_path).convert(\"RGB\")\n",
    "        self.img = self.transforms(self.img)\n",
    "\n",
    "        self.target = np.array(self.json_data[idx]['depth'], dtype = np.float32)\n",
    "        self.target = torch.from_numpy(self.target)\n",
    "        self.target = self.target.view(-1)\n",
    "        return self.img, self.target\n",
    "\n",
    "    def __len__(self):\n",
    "        return len(self.json_data)"
   ]
  },
  {
   "cell_type": "code",
   "execution_count": 4,
   "metadata": {},
   "outputs": [
    {
     "name": "stdout",
     "output_type": "stream",
     "text": [
      "\n",
      "Epoch 1/5\n",
      "----------\n",
      "train Loss: 0.1736 \n",
      "valid Loss: 0.2759 \n",
      "\n",
      "Epoch 2/5\n",
      "----------\n",
      "train Loss: 0.1606 \n",
      "valid Loss: 0.2625 \n",
      "\n",
      "Epoch 3/5\n",
      "----------\n",
      "train Loss: 0.1486 \n",
      "valid Loss: 0.2863 \n",
      "\n",
      "Epoch 4/5\n",
      "----------\n",
      "train Loss: 0.1392 \n",
      "valid Loss: 0.2355 \n",
      "\n",
      "Epoch 5/5\n",
      "----------\n",
      "train Loss: 0.1290 \n",
      "valid Loss: 0.2280 \n",
      "Training complete in 1m 48s\n"
     ]
    },
    {
     "data": {
      "image/png": "[encoded data removed]",
      "text/plain": [
       "<Figure size 432x288 with 1 Axes>"
      ]
     },
     "metadata": {
      "needs_background": "light"
     },
     "output_type": "display_data"
    }
   ],
   "source": [
    "batch_size = 16\n",
    "num_epochs = 5\n",
    "transform = transforms.Compose([transforms.Resize((224,224))\n",
    "                                       ,transforms.ToTensor()\n",
    "                                       ,transforms.Normalize([0.485, 0.456, 0.406], [0.229, 0.224, 0.225])])\n",
    "\n",
    "model = models.resnet50(pretrained=True)\n",
    "n_features = model.fc.in_features\n",
    "model.fc = nn.Linear(n_features, 1)\n",
    "    \n",
    "model.dropout = nn.Dropout(p=0.5)\n",
    "\n",
    "if torch.cuda.is_available():\n",
    "    model = model.cuda()\n",
    "    \n",
    "criterion = torch.nn.MSELoss() \n",
    "optimizer = optim.Adam(model.parameters(),lr=0.000001)\n",
    "\n",
    "train_json_path = r'C:\\Users\\yonsei\\Desktop\\regression\\dataset\\1\\Train\\label'\n",
    "validation_json_path = r'C:\\Users\\yonsei\\Desktop\\regression\\dataset\\1\\Test\\label'\n",
    "\n",
    "traindataset = customdatset(train_json_path,transform)\n",
    "trainloader = torch.utils.data.DataLoader(traindataset, batch_size = batch_size, shuffle=True, num_workers=0, pin_memory=True)\n",
    "\n",
    "validdataset = customdatset(validation_json_path,transform)\n",
    "validloader = torch.utils.data.DataLoader(validdataset, batch_size = batch_size, shuffle=True, num_workers=0, pin_memory=True)\n",
    "\n",
    "since = time.time()\n",
    "train_losses = []\n",
    "val_losses = []\n",
    "\n",
    "for epoch in range(num_epochs):\n",
    "    print()\n",
    "    print('Epoch {}/{}'.format(epoch+1, num_epochs))\n",
    "    print('-' * 10)\n",
    "    #fit에서 학습시 한 에폭의 결과값을 받음\n",
    "    epoch_loss = fit(epoch,model,trainloader,phase='train')\n",
    "    val_epoch_loss = fit(epoch,model,validloader,phase='valid')\n",
    "    \n",
    "    train_losses.append(epoch_loss)\n",
    "    val_losses.append(val_epoch_loss)\n",
    "    \n",
    "result_graph()\n",
    "time_elapsed = time.time() - since\n",
    "print('Training complete in {:.0f}m {:.0f}s'.format(\n",
    "time_elapsed // 60, time_elapsed % 60))\n",
    "    "
   ]
  },
  {
   "cell_type": "code",
   "execution_count": 7,
   "metadata": {},
   "outputs": [
    {
     "name": "stdout",
     "output_type": "stream",
     "text": [
      "test MSE_Loss: 0.1211 \n"
     ]
    }
   ],
   "source": [
    "test_json_path  =  r'C:\\Users\\yonsei\\Desktop\\regression\\dataset\\1\\Test\\label'\n",
    "testdataset = customdatset(train_json_path,transform)\n",
    "testloader = torch.utils.data.DataLoader(testdataset, batch_size = batch_size, shuffle=True, num_workers=0, pin_memory=True)\n",
    "confmat(testloader)"
   ]
  },
  {
   "cell_type": "code",
   "execution_count": null,
   "metadata": {},
   "outputs": [],
   "source": []
  }
 ],
 "metadata": {
  "kernelspec": {
   "display_name": "PYTORCH",
   "language": "python",
   "name": "worms"
  },
  "language_info": {
   "codemirror_mode": {
    "name": "ipython",
    "version": 3
   },
   "file_extension": ".py",
   "mimetype": "text/x-python",
   "name": "python",
   "nbconvert_exporter": "python",
   "pygments_lexer": "ipython3",
   "version": "3.6.7"
  }
 },
 "nbformat": 4,
 "nbformat_minor": 2
}
